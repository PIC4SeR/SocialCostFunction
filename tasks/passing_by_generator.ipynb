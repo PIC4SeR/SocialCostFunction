{
 "cells": [
  {
   "cell_type": "code",
   "execution_count": 1,
   "id": "06091814-d892-47c3-b1ac-1ad6ae8b0ada",
   "metadata": {},
   "outputs": [],
   "source": [
    "from numpy.random import randint as rint"
   ]
  },
  {
   "cell_type": "code",
   "execution_count": 20,
   "id": "37c06489-e378-4f7a-bfff-93afa2f29444",
   "metadata": {},
   "outputs": [],
   "source": [
    "def get_random_passing_by(tot_area=24, res=0.2, limit_area=[], passing_range=(0,3)):\n",
    "    \"\"\"\n",
    "    Return a certain number of single people passing by the scenario\n",
    "    \n",
    "    tot_area:     measure of the side of the local window's squared area, in meters\n",
    "    res:          resolution of discretization, in meters\n",
    "    passing_range:range of people passing by\n",
    "    limit_area:   list of areas not to intersect\n",
    "    \"\"\"\n",
    "    tot_area = p_discretize(tot_area, res)\n",
    "    n_people = rint(passing_range[0], passing_range[1])\n",
    "    people = []\n",
    "    for _ in range(n_people):\n",
    "        people.append(get_passing_by(tot_area, limit_area))\n",
    "\n",
    "    if len(people) == 0:\n",
    "        return np.array(people, dtype=np.int32).reshape(0,2)\n",
    "    \n",
    "    return np.array(people, dtype=np.int32)"
   ]
  },
  {
   "cell_type": "code",
   "execution_count": 21,
   "id": "c1873071-efd7-48a7-82fc-02a825c21a25",
   "metadata": {},
   "outputs": [],
   "source": [
    "def p_discretize(tot_area, res):\n",
    "    \"\"\"\n",
    "    \"\"\"\n",
    "    tot_area = int(tot_area/res)\n",
    "    \n",
    "    return tot_area"
   ]
  },
  {
   "cell_type": "code",
   "execution_count": 22,
   "id": "ec781004-886e-4144-9721-d8b2a0135646",
   "metadata": {},
   "outputs": [],
   "source": [
    "def get_passing_by(tot_area, limit_area):\n",
    "    \"\"\"\n",
    "    \"\"\"\n",
    "    l = int(tot_area/2)\n",
    "    while True:\n",
    "        person = np.array([rint(-l, l), rint(-l, l)])\n",
    "        if np.array([p_is_eligible(person, l_area) for l_area in limit_area]).all():\n",
    "            return person"
   ]
  },
  {
   "cell_type": "code",
   "execution_count": 24,
   "id": "feaa7cd2-0474-411c-b5b4-5159c1fabad6",
   "metadata": {},
   "outputs": [],
   "source": [
    "def p_is_eligible(person, limit_area):\n",
    "    \"\"\"\n",
    "    \"\"\"\n",
    "    al, bl, cl, dl = limit_area\n",
    "    if (al[0] < person[0] < cl[0] and al[1] < person[1] < cl[1]):\n",
    "        return False\n",
    "    else:\n",
    "        return True"
   ]
  }
 ],
 "metadata": {
  "kernelspec": {
   "display_name": "Python 3 (ipykernel)",
   "language": "python",
   "name": "python3"
  },
  "language_info": {
   "codemirror_mode": {
    "name": "ipython",
    "version": 3
   },
   "file_extension": ".py",
   "mimetype": "text/x-python",
   "name": "python",
   "nbconvert_exporter": "python",
   "pygments_lexer": "ipython3",
   "version": "3.8.10"
  }
 },
 "nbformat": 4,
 "nbformat_minor": 5
}
