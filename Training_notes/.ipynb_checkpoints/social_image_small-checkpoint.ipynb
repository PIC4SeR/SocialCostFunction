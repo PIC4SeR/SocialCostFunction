{
 "cells": [
  {
   "cell_type": "code",
   "execution_count": 103,
   "id": "6da4a657-a539-4fd6-a904-421cb41bcbb6",
   "metadata": {
    "scrolled": true,
    "tags": []
   },
   "outputs": [],
   "source": [
    "import os\n",
    "import random\n",
    "import numpy as np\n",
    "from tqdm import tqdm_notebook as tqdm\n",
    "from numpy.random import randint as rint\n",
    "import math\n",
    "import matplotlib as mpl\n",
    "import matplotlib.pyplot as plt\n",
    "import tensorflow as tf\n",
    "from tensorflow.keras import layers\n",
    "from tensorflow.keras import losses\n",
    "\n",
    "# mpl.use('agg')\n",
    "%run queue_generator.ipynb\n",
    "%run talking_people_generator.ipynb\n",
    "%run passing_by_generator.ipynb\n",
    "%run model_utils.ipynb\n",
    "%run dataset_generator.ipynb\n",
    "%run evaluate.ipynb\n",
    "# mpl.use('module://matplotlib_inline.backend_inline')"
   ]
  },
  {
   "cell_type": "code",
   "execution_count": 125,
   "id": "41144f74-7661-4c6f-9a6f-fadb8354df5b",
   "metadata": {},
   "outputs": [],
   "source": [
    "tot_area=24\n",
    "res=0.2\n",
    "people_range=(2,5)\n",
    "p_per_group = (1,2)\n",
    "area_dim=2.2\n",
    "min_dist=0.8\n",
    "group_range = (0,1)\n",
    "iterations=int(5e5)\n",
    "\n",
    "limit_area = []\n",
    "out_path='/root/social_costmap/dataset_02_3M.tfrecord'"
   ]
  },
  {
   "cell_type": "code",
   "execution_count": 126,
   "id": "7e17d228-b325-4614-9a36-5c328dde538a",
   "metadata": {},
   "outputs": [],
   "source": [
    "# test_queue_module1(tot_area=tot_area, res=res, area_dim=(1.2,7), n_people=4, orientation=\"orizontal\")\n",
    "# test_queue_module2()"
   ]
  },
  {
   "cell_type": "code",
   "execution_count": 127,
   "id": "26cb34c1-fa86-446b-acd8-9c911155501c",
   "metadata": {},
   "outputs": [],
   "source": [
    "# test_talking_module1(tot_area=tot_area, res=res, n_people=4, area_dim=area_dim, min_dist=min_dist, limit_area=[])\n",
    "# test_talking_module2(tot_area, res, p_per_group, area_dim, min_dist, limit_area, group_range)"
   ]
  },
  {
   "cell_type": "code",
   "execution_count": 149,
   "id": "2c6f175b-0fc2-4115-a187-1206a5c2817d",
   "metadata": {},
   "outputs": [],
   "source": [
    "# data = gather_single_data(tot_area, res, people_range, p_per_group, area_dim, min_dist, group_range)\n",
    "# plot_scenario(tot_area, res, data)"
   ]
  },
  {
   "cell_type": "markdown",
   "id": "68ab6469-8f39-453e-b4fa-660d6c9d8bc7",
   "metadata": {},
   "source": [
    "### Training"
   ]
  },
  {
   "cell_type": "code",
   "execution_count": 74,
   "id": "492fa1a4-12f4-40d4-8dfb-22838154f094",
   "metadata": {},
   "outputs": [],
   "source": [
    "dataset = get_autogenerator_dataset(\n",
    "    tot_area, \n",
    "    res, \n",
    "    people_range, \n",
    "    p_per_group, \n",
    "    area_dim, \n",
    "    min_dist, \n",
    "    group_range, \n",
    "    total_items=iterations\n",
    ")"
   ]
  },
  {
   "cell_type": "code",
   "execution_count": 75,
   "id": "6cab4674-4ea4-4e0f-bece-b85b3c0e25e6",
   "metadata": {
    "scrolled": true
   },
   "outputs": [
    {
     "name": "stdout",
     "output_type": "stream",
     "text": [
      "Model: \"sequential_2\"\n",
      "_________________________________________________________________\n",
      " Layer (type)                Output Shape              Param #   \n",
      "=================================================================\n",
      " rescaling_2 (Rescaling)     (None, 120, 120, 3)       0         \n",
      "                                                                 \n",
      " conv2d_22 (Conv2D)          (None, 120, 120, 128)     3584      \n",
      "                                                                 \n",
      " max_pooling2d_8 (MaxPooling  (None, 60, 60, 128)      0         \n",
      " 2D)                                                             \n",
      "                                                                 \n",
      " conv2d_23 (Conv2D)          (None, 60, 60, 128)       147584    \n",
      "                                                                 \n",
      " max_pooling2d_9 (MaxPooling  (None, 30, 30, 128)      0         \n",
      " 2D)                                                             \n",
      "                                                                 \n",
      " conv2d_24 (Conv2D)          (None, 30, 30, 64)        73792     \n",
      "                                                                 \n",
      " max_pooling2d_10 (MaxPoolin  (None, 15, 15, 64)       0         \n",
      " g2D)                                                            \n",
      "                                                                 \n",
      " conv2d_25 (Conv2D)          (None, 15, 15, 32)        18464     \n",
      "                                                                 \n",
      " max_pooling2d_11 (MaxPoolin  (None, 5, 5, 32)         0         \n",
      " g2D)                                                            \n",
      "                                                                 \n",
      " conv2d_26 (Conv2D)          (None, 5, 5, 16)          4624      \n",
      "                                                                 \n",
      " conv2d_27 (Conv2D)          (None, 5, 5, 16)          2320      \n",
      "                                                                 \n",
      " conv2d_28 (Conv2D)          (None, 5, 5, 32)          4640      \n",
      "                                                                 \n",
      " up_sampling2d_8 (UpSampling  (None, 15, 15, 32)       0         \n",
      " 2D)                                                             \n",
      "                                                                 \n",
      " conv2d_29 (Conv2D)          (None, 15, 15, 64)        18496     \n",
      "                                                                 \n",
      " up_sampling2d_9 (UpSampling  (None, 30, 30, 64)       0         \n",
      " 2D)                                                             \n",
      "                                                                 \n",
      " conv2d_30 (Conv2D)          (None, 30, 30, 128)       73856     \n",
      "                                                                 \n",
      " up_sampling2d_10 (UpSamplin  (None, 60, 60, 128)      0         \n",
      " g2D)                                                            \n",
      "                                                                 \n",
      " conv2d_31 (Conv2D)          (None, 60, 60, 128)       147584    \n",
      "                                                                 \n",
      " up_sampling2d_11 (UpSamplin  (None, 120, 120, 128)    0         \n",
      " g2D)                                                            \n",
      "                                                                 \n",
      " conv2d_32 (Conv2D)          (None, 120, 120, 1)       1153      \n",
      "                                                                 \n",
      "=================================================================\n",
      "Total params: 496,097\n",
      "Trainable params: 496,097\n",
      "Non-trainable params: 0\n",
      "_________________________________________________________________\n"
     ]
    }
   ],
   "source": [
    "model = create_enc_dec_big(tot_area, res)"
   ]
  },
  {
   "cell_type": "code",
   "execution_count": 5,
   "id": "520886d1-a6f3-4bba-bf82-da1da6fa7bfd",
   "metadata": {},
   "outputs": [
    {
     "name": "stdout",
     "output_type": "stream",
     "text": [
      "Epoch 1/5\n",
      "15625/15625 [==============================] - 530s 34ms/step - loss: 0.0079 - accuracy: 0.9973\n",
      "Epoch 2/5\n",
      "15625/15625 [==============================] - 526s 34ms/step - loss: 0.0030 - accuracy: 0.9988\n",
      "Epoch 3/5\n",
      "15625/15625 [==============================] - 526s 34ms/step - loss: 0.0021 - accuracy: 0.9991\n",
      "Epoch 4/5\n",
      "15625/15625 [==============================] - 526s 34ms/step - loss: 0.0018 - accuracy: 0.9993\n",
      "Epoch 5/5\n",
      "15625/15625 [==============================] - 526s 34ms/step - loss: 0.0016 - accuracy: 0.9994\n"
     ]
    }
   ],
   "source": [
    "history = model.fit(\n",
    "    dataset,\n",
    "    epochs=5)"
   ]
  },
  {
   "cell_type": "markdown",
   "id": "45287e0d-3219-4a97-a055-e04b61caee4f",
   "metadata": {},
   "source": [
    "### Evaluation"
   ]
  },
  {
   "cell_type": "code",
   "execution_count": 76,
   "id": "cfc9341f-e96e-4ff9-a563-14237f2d9d3b",
   "metadata": {},
   "outputs": [],
   "source": [
    "model.load_weights('/root/dev_ws/src/social_costmap/models/02-02-2024.keras')"
   ]
  },
  {
   "cell_type": "code",
   "execution_count": 93,
   "id": "a1a8b09f-7246-4298-aa78-ff0bd7d5efbc",
   "metadata": {},
   "outputs": [
    {
     "name": "stdout",
     "output_type": "stream",
     "text": [
      "1/1 [==============================] - 0s 14ms/step\n"
     ]
    },
    {
     "data": {
      "image/png": "[encoded data removed]",
      "text/plain": [
       "<Figure size 1500x1500 with 3 Axes>"
      ]
     },
     "metadata": {},
     "output_type": "display_data"
    }
   ],
   "source": [
    "data = gather_single_data(tot_area, res, people_range, p_per_group, area_dim, min_dist, group_range)\n",
    "# model.evaluate(data[0][np.newaxis, :], data[1][np.newaxis, :])\n",
    "evaluate_model(tot_area, res, data, model)"
   ]
  }
 ],
 "metadata": {
  "kernelspec": {
   "display_name": "Python 3 (ipykernel)",
   "language": "python",
   "name": "python3"
  },
  "language_info": {
   "codemirror_mode": {
    "name": "ipython",
    "version": 3
   },
   "file_extension": ".py",
   "mimetype": "text/x-python",
   "name": "python",
   "nbconvert_exporter": "python",
   "pygments_lexer": "ipython3",
   "version": "3.8.10"
  }
 },
 "nbformat": 4,
 "nbformat_minor": 5
}
