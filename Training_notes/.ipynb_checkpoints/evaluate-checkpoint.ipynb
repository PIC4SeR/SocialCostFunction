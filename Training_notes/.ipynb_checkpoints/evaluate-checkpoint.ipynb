{
 "cells": [
  {
   "cell_type": "code",
   "execution_count": null,
   "id": "031b394a-99e6-4624-82be-557486a6533b",
   "metadata": {},
   "outputs": [],
   "source": [
    "def plot_scenario(tot_area, res, data):\n",
    "    \"\"\"\n",
    "    \"\"\"    \n",
    "    fig, (ax1, ax2) = plt.subplots(2)\n",
    "    \n",
    "    fig.set_figheight(15)\n",
    "    fig.set_figwidth(15)\n",
    "\n",
    "    m = int(tot_area/res)\n",
    "    lm = int(m/2)\n",
    "    ax1.imshow(data[0], extent=[-lm,lm,-lm,lm], origin=\"lower\")\n",
    "    ax2.imshow(data[1], cmap=\"Greys\", extent=[-lm,lm,-lm,lm], origin=\"lower\")"
   ]
  },
  {
   "cell_type": "code",
   "execution_count": 1,
   "id": "9339015d-6fc4-481e-94cc-9db6b27363fd",
   "metadata": {},
   "outputs": [],
   "source": [
    "def evaluate_model(tot_area, res, data, eval_model):\n",
    "    \"\"\"\n",
    "    \"\"\"\n",
    "    r = eval_model.predict(data[0][np.newaxis, :])\n",
    "    r[r>0.4] = 1\n",
    "    r[r<0.4] = 0\n",
    "    r_new = (np.squeeze(r)[:, :, np.newaxis]*500).astype(np.uint8)\n",
    "    r_new[r_new !=0] = 1\n",
    "    final = data[0] + r_new\n",
    "    \n",
    "    fig, (ax1, ax2, ax3) = plt.subplots(3)\n",
    "    \n",
    "    fig.set_figheight(15)\n",
    "    fig.set_figwidth(15)\n",
    "\n",
    "    m = int(tot_area/res)\n",
    "    lm = int(m/2)\n",
    "    ax1.imshow(data[0], extent=[-lm,lm,-lm,lm], origin=\"lower\")\n",
    "    ax2.imshow(data[1], cmap=\"Greys\", extent=[-lm,lm,-lm,lm], origin=\"lower\")\n",
    "    ax3.imshow(final, cmap=\"Greys\", extent=[-lm,lm,-lm,lm], origin=\"lower\")"
   ]
  }
 ],
 "metadata": {
  "kernelspec": {
   "display_name": "Python 3 (ipykernel)",
   "language": "python",
   "name": "python3"
  },
  "language_info": {
   "codemirror_mode": {
    "name": "ipython",
    "version": 3
   },
   "file_extension": ".py",
   "mimetype": "text/x-python",
   "name": "python",
   "nbconvert_exporter": "python",
   "pygments_lexer": "ipython3",
   "version": "3.8.10"
  }
 },
 "nbformat": 4,
 "nbformat_minor": 5
}
